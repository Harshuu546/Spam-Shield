{
 "cells": [
  {
   "cell_type": "code",
   "execution_count": null,
   "id": "e63824a2-46a8-4be5-81df-1b47bf6c07d9",
   "metadata": {},
   "outputs": [],
   "source": [
    "import numpy as np\n",
    "import pandas as pd\n",
    "from sklearn.model_selection import train_test_split\n",
    "from sklearn.feature_extraction.text import TfidfVectorizer\n",
    "from sklearn.linear_model import LogisticRegression\n",
    "from sklearn.metrics import accuracy_score\n"
   ]
  },
  {
   "cell_type": "code",
   "execution_count": null,
   "id": "1083faf0",
   "metadata": {},
   "outputs": [],
   "source": [
    "df = pd.read_csv('mail_data.csv')"
   ]
  },
  {
   "cell_type": "code",
   "execution_count": null,
   "id": "6e239caf",
   "metadata": {},
   "outputs": [],
   "source": [
    "print (df)"
   ]
  },
  {
   "cell_type": "code",
   "execution_count": null,
   "id": "ab528499",
   "metadata": {},
   "outputs": [],
   "source": [
    "data = df.where((pd.notnull(df)),'')\n",
    "data.head(10)"
   ]
  },
  {
   "cell_type": "code",
   "execution_count": null,
   "id": "a5181d0c",
   "metadata": {},
   "outputs": [],
   "source": [
    "data.info()"
   ]
  },
  {
   "cell_type": "code",
   "execution_count": null,
   "id": "d466bdfe",
   "metadata": {},
   "outputs": [],
   "source": [
    "data.loc[data['Category'] == 'spam', 'Category',] = 0\n",
    "data.loc[data['Category'] == 'ham', 'Category',] = 1"
   ]
  },
  {
   "cell_type": "code",
   "execution_count": null,
   "id": "49129298",
   "metadata": {},
   "outputs": [],
   "source": [
    "X = data['Message']\n",
    "Y = data['Category']"
   ]
  },
  {
   "cell_type": "code",
   "execution_count": null,
   "id": "612715fe",
   "metadata": {},
   "outputs": [],
   "source": [
    "X_train, X_test, Y_train, Y_test = train_test_split(X,Y, test_size=0.2, random_state = 3)"
   ]
  },
  {
   "cell_type": "code",
   "execution_count": null,
   "id": "9a6017d4",
   "metadata": {},
   "outputs": [],
   "source": [
    "feature_extraction = TfidfVectorizer(min_df = 1, stop_words = 'english', lowercase=True)\n",
    "\n",
    "X_train_features = feature_extraction.fit_transform(X_train)\n",
    "X_test_features = feature_extraction.transform(X_test)\n",
    "\n",
    "Y_train = Y_train.astype('int')\n",
    "Y_test = Y_test.astype('int')"
   ]
  },
  {
   "cell_type": "code",
   "execution_count": null,
   "id": "f3ddb6ab",
   "metadata": {},
   "outputs": [],
   "source": [
    "model = LogisticRegression()"
   ]
  },
  {
   "cell_type": "code",
   "execution_count": null,
   "id": "81c60798",
   "metadata": {},
   "outputs": [],
   "source": [
    "model.fit(X_train_features, Y_train)"
   ]
  },
  {
   "cell_type": "code",
   "execution_count": null,
   "id": "b98207f3",
   "metadata": {},
   "outputs": [],
   "source": [
    "prediction_on_training_data = model.predict(X_train_features)\n",
    "accuracy_on_training_data = accuracy_score(Y_train, prediction_on_training_data)"
   ]
  },
  {
   "cell_type": "code",
   "execution_count": null,
   "id": "14a9168f",
   "metadata": {},
   "outputs": [],
   "source": [
    "print('accuracy on training data :',accuracy_on_training_data)"
   ]
  },
  {
   "cell_type": "code",
   "execution_count": null,
   "id": "ac43c556",
   "metadata": {},
   "outputs": [],
   "source": [
    "prediction_on_test_data = model.predict(X_test_features)\n",
    "accuracy_on_test_data = accuracy_score(Y_test, prediction_on_test_data)"
   ]
  },
  {
   "cell_type": "code",
   "execution_count": null,
   "id": "63838a94",
   "metadata": {},
   "outputs": [],
   "source": [
    "print('accuracy on test data:',accuracy_on_test_data)"
   ]
  },
  {
   "cell_type": "code",
   "execution_count": 77,
   "id": "e693aa17",
   "metadata": {},
   "outputs": [
    {
     "name": "stdout",
     "output_type": "stream",
     "text": [
      "[0]\n",
      "spam mail\n"
     ]
    }
   ],
   "source": [
    "input_your_mail = ['We are pleased to inform you that you are the lucky winner of our $1,000,000 grand prize! This is an exclusive offer available to a select few, and we want to congratulate you on your incredible luck. To claim your prize, all you need to do is: Click here to verify your details. Fill out the attached form with your personal information. Provide your bank account details to ensure the prize money is transferred immediately. Act quickly, as this offer is only valid for the next 24 hours. Don’t miss out on your chance to claim this life-changing sum of money.']\n",
    "input_data_features = feature_extraction.transform(input_your_mail)\n",
    "prediction = model.predict(input_data_features)\n",
    "print(prediction)\n",
    "if(prediction[0]==1):\n",
    "    print('ham mail')\n",
    "else:\n",
    "    print('spam mail')    \n"
   ]
  }
 ],
 "metadata": {
  "kernelspec": {
   "display_name": "Python 3 (ipykernel)",
   "language": "python",
   "name": "python3"
  },
  "language_info": {
   "codemirror_mode": {
    "name": "ipython",
    "version": 3
   },
   "file_extension": ".py",
   "mimetype": "text/x-python",
   "name": "python",
   "nbconvert_exporter": "python",
   "pygments_lexer": "ipython3",
   "version": "3.13.1"
  }
 },
 "nbformat": 4,
 "nbformat_minor": 5
}
